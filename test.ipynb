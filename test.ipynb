{
 "cells": [
  {
   "cell_type": "code",
   "execution_count": 1,
   "id": "7dcfeab7",
   "metadata": {},
   "outputs": [],
   "source": [
    "# !pip install -r https://raw.githubusercontent.com/teddylee777/langchain-kr/main/requirements.txt"
   ]
  },
  {
   "cell_type": "code",
   "execution_count": 2,
   "id": "2bc156c2",
   "metadata": {},
   "outputs": [
    {
     "data": {
      "text/plain": [
       "True"
      ]
     },
     "execution_count": 2,
     "metadata": {},
     "output_type": "execute_result"
    }
   ],
   "source": [
    "# API 키를 환경변수로 관리하기 위한 설정 파일\n",
    "from dotenv import load_dotenv\n",
    "\n",
    "# API 키 정보 로드\n",
    "load_dotenv()"
   ]
  },
  {
   "cell_type": "code",
   "execution_count": 3,
   "id": "d62fcb39",
   "metadata": {},
   "outputs": [
    {
     "name": "stdout",
     "output_type": "stream",
     "text": [
      "LangSmith 추적을 시작합니다.\n",
      "[프로젝트명]\n",
      "Miniproject-RAG\n"
     ]
    }
   ],
   "source": [
    "# LangSmith 추적을 설정합니다. https://smith.langchain.com\n",
    "# !pip install -qU langchain-teddynote\n",
    "from langchain_teddynote import logging\n",
    "\n",
    "# 프로젝트 이름을 입력합니다.\n",
    "logging.langsmith(\"Miniproject-RAG\")"
   ]
  },
  {
   "cell_type": "code",
   "execution_count": 4,
   "id": "10653368",
   "metadata": {},
   "outputs": [
    {
     "name": "stdout",
     "output_type": "stream",
     "text": [
      "200 [{'title': '콜라겐, 이 시간에 먹어야 효과 있다고? 영양제 흡수율, 효과 높이는 법', 'originallink': 'https://www.allurekorea.com/2025/07/25/%ec%bd%9c%eb%9d%bc%ea%b2%90-%ec%9d%b4-%ec%8b%9c%ea%b0%84%ec%97%90-%eb%a8%b9%ec%96%b4%ec%95%bc-%ed%9a%a8%ea%b3%bc-%ec%9e%88%eb%8b%a4%ea%b3%a0-%ec%98%81%ec%96%91%ec%a0%9c-%ed%9d%a1%ec%88%98/?utm_source=naver&utm_medium=partnership', 'link': 'https://www.allurekorea.com/2025/07/25/%ec%bd%9c%eb%9d%bc%ea%b2%90-%ec%9d%b4-%ec%8b%9c%ea%b0%84%ec%97%90-%eb%a8%b9%ec%96%b4%ec%95%bc-%ed%9a%a8%ea%b3%bc-%ec%9e%88%eb%8b%a4%ea%b3%a0-%ec%98%81%ec%96%91%ec%a0%9c-%ed%9d%a1%ec%88%98/?utm_source=naver&utm_medium=partnership', 'description': 'https://www.allurekorea.com/2025/03/08/%<b>EC%</b>9A%94%<b>EC%</b>A6%98-<b>%EA%B</b>1%B4<b>%EA%B</b>8%B0%<b>EC%</b>8B%9D-%<b>EC%</b>8B%9C%<b>EC%9E%</b>A5%<b>EC%</b>97%90%<b>EC%</b><b>84</b>%9C-%EB%A9%9C... ed%<b>84</b>%b0-%eb%8b%a4%<b>ec%</b>9d%b4%<b>ec%</b>86%<b>8c</b>-%<b>ec%</b>98%81%<b>ec%</b>96%91%<b>ec%</b>a0%9c-%<b>ec%</b>b6%94%<b>ec%</b><b>b2%</b>9c<b>%ea%b</b>9%<b>8c%ec%</b>a7%80 https://www.allurekorea.com... ', 'pubDate': 'Fri, 25 Jul 2025 08:02:00 +0900'}]\n"
     ]
    }
   ],
   "source": [
    "import os, urllib.parse, requests\n",
    "from dotenv import load_dotenv\n",
    "\n",
    "load_dotenv()\n",
    "cid = os.getenv(\"NAVER_CLIENT_ID\")\n",
    "csecret = os.getenv(\"NAVER_CLIENT_SECRET\")\n",
    "\n",
    "url = \"https://openapi.naver.com/v1/search/news.json\"\n",
    "params = {\"query\": urllib.parse.quote(\"게임\"), \"display\": 5, \"sort\": \"date\"}\n",
    "headers = {\"X-Naver-Client-Id\": cid, \"X-Naver-Client-Secret\": csecret}\n",
    "\n",
    "r = requests.get(url, headers=headers, params=params, timeout=10)\n",
    "print(r.status_code, r.json().get(\"items\", [])[:1])\n"
   ]
  },
  {
   "cell_type": "code",
   "execution_count": null,
   "id": "0fa6f0cd",
   "metadata": {},
   "outputs": [
    {
     "name": "stdout",
     "output_type": "stream",
     "text": [
      "HTTP status: 200\n",
      "원본 개수: 47\n",
      "게임 필터 후 개수: 47\n",
      "- 오픈게임재단 크로쓰(CORSS), 글로벌 거래소 엘뱅크(LBank) 상장 | Wed, 03 Sep 2025 10:34:00 +0900\n",
      "  https://game.donga.com/119063/\n",
      "- 펄어비스 '붉은사막' PAX 웨스트 성료, 이제 일본으로 간다 | Wed, 03 Sep 2025 10:34:00 +0900\n",
      "  https://www.gamevu.co.kr/news/articleView.html?idxno=51398\n",
      "- KT, 도심형 문화 행사 'K 페스타' 5일 개막 | Wed, 03 Sep 2025 10:34:00 +0900\n",
      "  http://www.wsobi.com/news/articleView.html?idxno=288417\n",
      "- [사이언스온고지신]거인의 어깨 위에서 피어난 창조적 파괴, '케데헌'이... | Wed, 03 Sep 2025 10:33:00 +0900\n",
      "  https://www.etnews.com/20250903000146\n",
      "- 애니팡4, 이용자 맞춤형 이벤트 ‘던져! 루비왕’ 첫 선 | Wed, 03 Sep 2025 10:32:00 +0900\n",
      "  https://www.gameshot.net/common/con_view.php?code=GA68b799d6608c8\n",
      "- 삼성전자, 하반기 매달 ‘신제품’..스마트폰 시장 게임 룰 바꿔 | Wed, 03 Sep 2025 10:32:00 +0900\n",
      "  http://kpenews.com/View.aspx?No=3768211\n",
      "- 넷마블 '뱀피르' 구글 매출 톱 10 실종 ... 말이되나 | Wed, 03 Sep 2025 10:32:00 +0900\n",
      "  https://www.tgdaily.co.kr/news/articleView.html?idxno=342017\n",
      "- 게임인재단, 디지털 법률교육 통해 미래 인재의 온라인 시민성 키운다 | Wed, 03 Sep 2025 10:32:00 +0900\n",
      "  https://www.gameshot.net/common/con_view.php?code=GA68b79a0954197\n",
      "- 엔비디아, 화제작 '헬 이즈 어스' 등 신작 게임 4종에 DLSS 4 멀티 프레임... | Wed, 03 Sep 2025 10:32:00 +0900\n",
      "  https://gamefocus.co.kr/detail.php?number=168915\n",
      "- 위메이드 '이미르 글로벌', 사전등록 20만 돌파로 글로벌 가속화 | Wed, 03 Sep 2025 10:32:00 +0900\n",
      "  https://www.gamevu.co.kr/news/articleView.html?idxno=51397\n"
     ]
    }
   ],
   "source": [
    "import os\n",
    "import requests\n",
    "from dotenv import load_dotenv\n",
    "import re, html\n",
    "\n",
    "load_dotenv()\n",
    "CID = os.getenv(\"NAVER_CLIENT_ID\")\n",
    "CSECRET = os.getenv(\"NAVER_CLIENT_SECRET\")\n",
    "\n",
    "URL = \"https://openapi.naver.com/v1/search/news.json\"\n",
    "HEADERS = {\"X-Naver-Client-Id\": CID, \"X-Naver-Client-Secret\": CSECRET}\n",
    "\n",
    "def clean_text(s: str) -> str:\n",
    "    if not s:\n",
    "        return \"\"\n",
    "    s = html.unescape(s)\n",
    "    return re.sub(r\"<.*?>\", \"\", s).strip()  # <b>태그 제거\n",
    "\n",
    "def filter_game_articles(items, keywords=None):\n",
    "    if keywords is None:\n",
    "        keywords = [\"게임\", \"비디오게임\", \"e스포츠\", \"콘솔\",\n",
    "                    \"닌텐도\", \"플레이스테이션\", \"Xbox\", \"스팀\"]\n",
    "    out = []\n",
    "    for it in items:\n",
    "        title = clean_text(it.get(\"title\", \"\"))\n",
    "        desc  = clean_text(it.get(\"description\", \"\"))\n",
    "        blob = f\"{title} {desc}\".lower()\n",
    "        if any(k.lower() in blob for k in keywords):\n",
    "            it[\"title\"] = title\n",
    "            it[\"description\"] = desc\n",
    "            out.append(it)\n",
    "    return out\n",
    "\n",
    "# ✅ 1) 먼저 필터 없이 원본이 나오는지 확인\n",
    "params = {\n",
    "    \"query\": \"게임\",     # ❗ urllib.parse.quote() 쓰지 말기\n",
    "    \"display\": 50,       # 1~100\n",
    "    \"start\": 1,          # 1~1000\n",
    "    \"sort\": \"date\"       # 최신순\n",
    "}\n",
    "res = requests.get(URL, headers=HEADERS, params=params, timeout=10)\n",
    "\n",
    "print(\"HTTP status:\", res.status_code)\n",
    "if res.status_code != 200:\n",
    "    print(res.text)      # 오류 메시지 확인하고 종료\n",
    "    raise SystemExit()\n",
    "\n",
    "data = res.json()\n",
    "items = data.get(\"items\", [])\n",
    "print(\"원본 개수:\", len(items))\n",
    "\n",
    "# ✅ 2) 이제 필터 적용\n",
    "games = filter_game_articles(items)\n",
    "print(\"게임 필터 후 개수:\", len(games))\n",
    "\n",
    "for a in games[:10]:\n",
    "    title = a[\"title\"]\n",
    "    pub   = a.get(\"pubDate\")\n",
    "    link  = a.get(\"originallink\") or a.get(\"link\")\n",
    "    print(f\"- {title} | {pub}\\n  {link}\")\n"
   ]
  },
  {
   "cell_type": "markdown",
   "id": "8dff8a5e",
   "metadata": {},
   "source": []
  },
  {
   "cell_type": "code",
   "execution_count": 12,
   "id": "805e5250",
   "metadata": {},
   "outputs": [
    {
     "name": "stdout",
     "output_type": "stream",
     "text": [
      "1. &quot;제2 케데헌 '더피', 카톡에 모였다&quot;…카카오, '힙트래디션 이모티콘' 출... (https://n.news.naver.com/mnews/article/003/0013455491?sid=105)\n",
      "2. 집 비운 사이 발생한 불···범인은 바로 키우던 <b>고양이</b> (https://n.news.naver.com/mnews/article/032/0003393892?sid=102)\n",
      "3. NCT 위시 유우시, <b>고양이</b> 변신완료 [포토엔HD] (https://m.entertain.naver.com/article/609/0001030248)\n",
      "4. ‘<b>고양이</b>용 지하철’에 ‘야옹 맥도날드’까지…“3개월 완성” 유튜버... (https://n.news.naver.com/mnews/article/081/0003571052?sid=104)\n",
      "5. 나린, <b>고양이</b> 볼 하트 (https://m.entertain.naver.com/article/421/0008462272)\n",
      "6. 쿠팡 '9월 펫페어' 개최, 강아지·<b>고양이</b>·관상어·소동물 상품 4천여 종... (https://www.businesspost.co.kr/BP?command=article_view&num=410094)\n",
      "7. [<b>고양이</b> 눈]“너를 보호해 줄게!” (https://n.news.naver.com/mnews/article/020/0003658296?sid=110)\n",
      "8. [사진]NCT WISH, <b>고양이</b> 변신 (https://m.entertain.naver.com/article/109/0005383705)\n",
      "9. [포토]미야오 나린, <b>고양이</b> 볼하트? (https://m.entertain.naver.com/article/241/0003463816)\n",
      "10. 미야오 나린, '시크한 <b>고양이</b>처럼' (구찌 포토월) [HD포토] (https://www.topstarnews.net/news/articleView.html?idxno=15791274)\n",
      "11. NCT 위시 사쿠야-재희, <b>고양이</b> 변신 중 [포토엔HD] (https://m.entertain.naver.com/article/609/0001030238)\n",
      "12. NCT 위시 리쿠-시온, <b>고양이</b> 처럼 행동하라 [포토엔HD] (https://m.entertain.naver.com/article/609/0001030245)\n",
      "13. NCT 위시 유우시-재희, 즐거운 <b>고양이</b> 릴스 [포토엔HD] (https://m.entertain.naver.com/article/609/0001030243)\n",
      "14. NCT 위시 재희, <b>고양이</b>의 ‘<b>고양이</b>귀’ [포토엔HD] (https://m.entertain.naver.com/article/609/0001030205)\n",
      "15. NCT 위시, 시즈니 앞에서 부르는 ‘<b>고양이</b> 릴스’ [포토엔HD] (https://m.entertain.naver.com/article/609/0001030244)\n",
      "16. NCT 위시 사쿠야-리쿠, 감미로운 ‘<b>고양이</b> 릴스’ [포토엔HD] (https://m.entertain.naver.com/article/609/0001030242)\n",
      "17. NCT 위시 사쿠야-료, 실전같이(?) 싸우는 두 <b>고양이</b> [포토엔HD] (https://m.entertain.naver.com/article/609/0001030246)\n",
      "18. NCT 위시 시온-료, 힙하게 브이하며 ‘<b>고양이</b> 릴스’ [포토엔HD] (https://m.entertain.naver.com/article/609/0001030241)\n",
      "19. NCT 위시 사쿠야-료, ‘<b>고양이</b>들 싸운다’ [포토엔HD] (https://m.entertain.naver.com/article/609/0001030160)\n",
      "20. NCT 위시 사쿠야-재희, ‘시온은 <b>고양이</b> 변신이 힘들어’ [포토엔HD] (https://m.entertain.naver.com/article/609/0001030247)\n",
      "21. NCT 위시 유우시-시온, ‘너 <b>고양이</b>가 되어라’ [포토엔HD] (https://m.entertain.naver.com/article/609/0001030161)\n",
      "22. 쿠팡, ‘9월 펫페어’ 개최…100여 개 인기 브랜드 총출동 (https://www.kgnews.co.kr/news/article.html?no=862690)\n",
      "23. 제82회 베네치아영화제 VR '저녁 8시와 <b>고양이</b>' 관람 (https://n.news.naver.com/mnews/article/001/0015599089?sid=103)\n",
      "24. 제82회 베네치아영화제에 참석한 VR '저녁 8시와 <b>고양이</b>' 제작진 (https://n.news.naver.com/mnews/article/001/0015599088?sid=103)\n",
      "25. <b>고양이</b>에게 생선 맡긴 아파트…경리과장, 관리비 빼돌려 '펑펑' (https://n.news.naver.com/mnews/article/448/0000553610?sid=102)\n",
      "26. 미야오 나린, 청담동 온 <b>고양이</b> 소녀 (https://m.entertain.naver.com/article/421/0008462269)\n",
      "27. 카드 전지우, 몽환적인 <b>고양이</b> [포토엔HD] (https://m.entertain.naver.com/article/609/0001029572)\n",
      "28. 카드 전지우, ‘<b>고양이</b> 눈매’ [포토엔HD] (https://m.entertain.naver.com/article/609/0001029545)\n",
      "29. [사진]NCT WISH 유우시, <b>고양이</b> 변신 (https://m.entertain.naver.com/article/109/0005383703)\n",
      "30. [사진]NCT WISH 리쿠, <b>고양이</b> 변신 (https://m.entertain.naver.com/article/109/0005383702)\n",
      "31. [사진]NCT WISH 리쿠-시온, <b>고양이</b> 릴스 신난다 (https://m.entertain.naver.com/article/109/0005383706)\n",
      "32. &quot;다음 역은 캣타운역&quot;…실제 같은 '<b>고양이</b> 지하철', 조회수 1억 돌파 (https://n.news.naver.com/mnews/article/076/0004319279?sid=102)\n",
      "33. 올데이 프로젝트 영서, '럭셔리 <b>고양이</b>' (구찌 포토월) [HD포토] (https://www.topstarnews.net/news/articleView.html?idxno=15791193)\n",
      "34. [사진]NCT WISH 리쿠-시온, <b>고양이</b> 릴스 따라하기 (https://m.entertain.naver.com/article/109/0005383704)\n",
      "35. [사진]NCT WISH, <b>고양이</b> 릴스 무대 (https://m.entertain.naver.com/article/109/0005383709)\n",
      "36. 미야오 나린 ‘<b>고양이</b> 하트’ [MK포토] (https://m.entertain.naver.com/article/410/0001087401)\n",
      "37. [사진]NCT WISH 사쿠야-료, <b>고양이</b> 릴스? 싸우기! (https://m.entertain.naver.com/article/109/0005383685)\n",
      "38. [사진]NCT WISH 유우시-재희, <b>고양이</b> 릴스 따라하기 (https://m.entertain.naver.com/article/109/0005383684)\n",
      "39. [사진]NCT WISH 사쿠야-료, <b>고양이</b> 릴스? 싸우기? (https://m.entertain.naver.com/article/109/0005383686)\n",
      "40. 미야오 나린 ‘<b>고양이</b> 눈빛’ [MK포토] (https://m.entertain.naver.com/article/410/0001087364)\n",
      "41. [알고 싶어, 너와 너의 멍냥이] 내 <b>고양이</b>가 아픈 걸 자꾸 잊어버리는 ... (https://n.news.naver.com/mnews/article/469/0000884822?sid=103)\n",
      "42. 미야오 나린 ‘<b>고양이</b> 발걸음’ [MK포토] (https://m.entertain.naver.com/article/410/0001087363)\n",
      "43. 상주시육아종합지원센터, 어린이 안전 뮤지컬 '슈퍼 <b>고양이</b> 푸스' 공연 (https://www.dkilbo.com/news/articleView.html?idxno=512264)\n",
      "44. &quot;돈이 적게 들어요&quot;…시니어 가구, 강아지보다 <b>고양이</b> 선호 (https://n.news.naver.com/mnews/article/018/0006104513?sid=102)\n",
      "45. [포토S] 제로베이스원 장하오, '<b>고양이</b> 귀~' (https://m.entertain.naver.com/article/477/0000566812)\n",
      "46. 담낭 제거수술 받은 <b>고양이</b>, 밥을 통 먹지 않는데 어떻게 하죠? (https://n.news.naver.com/mnews/article/469/0000885057?sid=103)\n",
      "47. 상주시육아종합지원센터, 어린이 재난안전 뮤지컬 ‘슈퍼<b>고양이</b> 푸스’... (https://www.kbmaeil.com/article/20250903500221)\n",
      "48. [<b>고양이</b> 눈]“관계자외 사용 금지” (https://n.news.naver.com/mnews/article/020/0003658000?sid=110)\n",
      "49. [T포토] 미야오 나린 '진리의 <b>고양이</b>상' (https://m.entertain.naver.com/article/213/0001351454)\n",
      "50. [현장포토] &quot;눈빛에 퐁당!&quot;...나린, 시크한 <b>고양이</b> (https://m.entertain.naver.com/article/433/0000120280)\n"
     ]
    }
   ],
   "source": [
    "import os\n",
    "import requests\n",
    "import json\n",
    "from dotenv import load_dotenv\n",
    "\n",
    "# .env 파일에서 API 키 불러오기 (권장)\n",
    "# .env 파일 안에는 다음처럼 저장해두세요:\n",
    "# NAVER_CLIENT_ID=발급받은ID\n",
    "# NAVER_CLIENT_SECRET=발급받은SECRET\n",
    "load_dotenv()\n",
    "\n",
    "CLIENT_ID = os.getenv(\"NAVER_CLIENT_ID\")\n",
    "CLIENT_SECRET = os.getenv(\"NAVER_CLIENT_SECRET\")\n",
    "\n",
    "def get_naver_news(query, display=10, start=1, sort=\"sim\"):\n",
    "    \"\"\"\n",
    "    네이버 뉴스 검색 API 호출 함수\n",
    "    query : 검색어\n",
    "    display : 한 번에 가져올 뉴스 개수 (기본 10, 최대 100)\n",
    "    start : 시작 위치 (기본 1, 최대 1000)\n",
    "    sort : 정렬 옵션 (sim: 관련도순, date: 최신순)\n",
    "    \"\"\"\n",
    "    url = \"https://openapi.naver.com/v1/search/news.json\"\n",
    "    headers = {\n",
    "        \"X-Naver-Client-Id\": CLIENT_ID,\n",
    "        \"X-Naver-Client-Secret\": CLIENT_SECRET\n",
    "    }\n",
    "    params = {\n",
    "        \"query\": query,\n",
    "        \"display\": display,\n",
    "        \"start\": start,\n",
    "        \"sort\": sort\n",
    "    }\n",
    "\n",
    "    response = requests.get(url, headers=headers, params=params)\n",
    "    if response.status_code == 200:\n",
    "        return response.json()\n",
    "    else:\n",
    "        print(\"Error Code:\", response.status_code)\n",
    "        return None\n",
    "\n",
    "# 사용 예시\n",
    "if __name__ == \"__main__\":\n",
    "    query = \"고양이\"\n",
    "    result = get_naver_news(query, display=50)\n",
    "    \n",
    "    if result:\n",
    "        for idx, item in enumerate(result['items'], 1):\n",
    "            print(f\"{idx}. {item['title']} ({item['link']})\")\n"
   ]
  }
 ],
 "metadata": {
  "kernelspec": {
   "display_name": "mp",
   "language": "python",
   "name": "python3"
  },
  "language_info": {
   "codemirror_mode": {
    "name": "ipython",
    "version": 3
   },
   "file_extension": ".py",
   "mimetype": "text/x-python",
   "name": "python",
   "nbconvert_exporter": "python",
   "pygments_lexer": "ipython3",
   "version": "3.11.13"
  }
 },
 "nbformat": 4,
 "nbformat_minor": 5
}
