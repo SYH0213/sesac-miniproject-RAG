{
 "cells": [
  {
   "cell_type": "markdown",
   "id": "07c462fa",
   "metadata": {},
   "source": [
    "|                    | Gemini 1.5                | Gemini 1.5                | Gemini 2.0                | Gemini 2.0                | Gemini 2.5                | Gemini 2.5                |\n",
    "| ------------------ | ------------------------- | ------------------------- | ------------------------- | ------------------------- | ------------------------- | ------------------------- |\n",
    "|                    | Flash                     | Pro                       | Flash-Lite                | Flash                     | Flash                     | Pro                       |\n",
    "| Input modalities   | Text, Image, Video, Audio | Text, Image, Video, Audio | Text, Image, Video, Audio | Text, Image, Video, Audio | Text, Image, Video, Audio | Text, Image, Video, Audio |\n",
    "| Input length       | 1M                        | 2M                        | 1M                        | 1M                        | 1M                        | 1M                        |\n",
    "| Output modalities  | Text                      | Text                      | Text                      | Text, Image\\*             | Text, Audio\\*             | Text, Audio\\*             |\n",
    "| Output length      | 8K                        | 8K                        | 8K                        | 8K                        | 64K                       | 64K                       |\n",
    "| Thinking           | No                        | No                        | No                        | Yes\\*                     | Dynamic                   | Dynamic                   |\n",
    "| Supports tool use? | No                        | No                        | No                        | Yes                       | Yes                       | Yes                       |\n",
    "| Knowledge cutoff   | November 2023             | November 2023             | June 2024                 | June 2024                 | January 2025              | January 2025              |"
   ]
  }
 ],
 "metadata": {
  "language_info": {
   "name": "python"
  }
 },
 "nbformat": 4,
 "nbformat_minor": 5
}
